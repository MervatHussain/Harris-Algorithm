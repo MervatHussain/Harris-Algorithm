{
 "cells": [
  {
   "cell_type": "code",
   "execution_count": 1,
   "id": "03c14b6a",
   "metadata": {},
   "outputs": [],
   "source": [
    "import cv2\n",
    "import numpy as np\n",
    "\n",
    "def get_gradients_xy(img, ksize):\n",
    "    ## Student Code ~ 2 lines of codes\n",
    "    #print(img.dtype)\n",
    "    sobelx = cv2.Sobel(img, cv2.CV_16S, 1,0,ksize=ksize)\n",
    "    sobely = cv2.Sobel(img, cv2.CV_16S, 0,1,ksize=ksize)\n",
    "    #\n",
    "    sobelx = np.absolute(sobelx)\n",
    "    sobely = np.absolute(sobely)\n",
    "\n",
    "    sobelx = np.uint8(sobelx)\n",
    "    sobely = np.uint8(sobely)\n",
    "\n",
    "    return sobelx, sobely\n",
    "    ## Student Code Ends\n",
    "\n",
    "\n",
    "def rescale(img, min,max):\n",
    "    ## Student Code\n",
    "    img = (img-img.min())/float(img.max()-img.min())\n",
    "    img = min + img * (max-min)\n",
    "    ## End Student Code\n",
    "    return img"
   ]
  },
  {
   "cell_type": "code",
   "execution_count": null,
   "id": "0f2d6b4f",
   "metadata": {},
   "outputs": [],
   "source": []
  },
  {
   "cell_type": "code",
   "execution_count": null,
   "id": "585ce8b5",
   "metadata": {},
   "outputs": [],
   "source": []
  }
 ],
 "metadata": {
  "kernelspec": {
   "display_name": "Python 3",
   "language": "python",
   "name": "python3"
  },
  "language_info": {
   "codemirror_mode": {
    "name": "ipython",
    "version": 3
   },
   "file_extension": ".py",
   "mimetype": "text/x-python",
   "name": "python",
   "nbconvert_exporter": "python",
   "pygments_lexer": "ipython3",
   "version": "3.8.8"
  }
 },
 "nbformat": 4,
 "nbformat_minor": 5
}
